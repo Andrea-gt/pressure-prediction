{
  "nbformat": 4,
  "nbformat_minor": 0,
  "metadata": {
    "colab": {
      "provenance": [],
      "toc_visible": true
    },
    "kernelspec": {
      "name": "python3",
      "display_name": "Python 3"
    },
    "language_info": {
      "name": "python"
    }
  },
  "cells": [
    {
      "cell_type": "code",
      "source": [
        "#@title *\n",
        "HTML('''\n",
        "<div style=\"position: relative;\">\n",
        "    <div style=\"\n",
        "        background-image: url(\n",
        "          'https://images.unsplash.com/photo-1631653355789-3e32dcce22db?q=80&w=1964&auto=format&fit=crop&ixlib=rb-4.0.3&ixid=M3wxMjA3fDB8MHxwaG90by1wYWdlfHx8fGVufDB8fHx8fA%3D%3D'\n",
        "          );\n",
        "        background-size: cover;\n",
        "        background-position: center;\n",
        "        width: 100%;\n",
        "        height: 300px;\n",
        "        border-radius: 10px;\n",
        "        margin: 20px 0;\n",
        "        box-shadow: 0 4px 8px rgba(0,0,0,0.1);\">\n",
        "    </div>\n",
        "    <div style=\"\n",
        "        position: absolute;\n",
        "        bottom: 20px;\n",
        "        left: 20px;\n",
        "        color: white;\n",
        "        font-size: 24px;\n",
        "        text-shadow: 2px 2px 4px rgba(0,0,0,0.5);\">\n",
        "        Lung Ventilator System\n",
        "    </div>\n",
        "</div>\n",
        "''')"
      ],
      "metadata": {
        "colab": {
          "base_uri": "https://localhost:8080/",
          "height": 357
        },
        "cellView": "form",
        "id": "eD54g3Cj3DoY",
        "outputId": "06599ff9-04f4-469e-fca7-cc83023cc1df"
      },
      "execution_count": 5,
      "outputs": [
        {
          "output_type": "execute_result",
          "data": {
            "text/plain": [
              "<IPython.core.display.HTML object>"
            ],
            "text/html": [
              "\n",
              "<div style=\"position: relative;\">\n",
              "    <div style=\"\n",
              "        background-image: url(\n",
              "          'https://images.unsplash.com/photo-1631653355789-3e32dcce22db?q=80&w=1964&auto=format&fit=crop&ixlib=rb-4.0.3&ixid=M3wxMjA3fDB8MHxwaG90by1wYWdlfHx8fGVufDB8fHx8fA%3D%3D'\n",
              "          );\n",
              "        background-size: cover;\n",
              "        background-position: center;\n",
              "        width: 100%;\n",
              "        height: 300px;\n",
              "        border-radius: 10px;\n",
              "        margin: 20px 0;\n",
              "        box-shadow: 0 4px 8px rgba(0,0,0,0.1);\">\n",
              "    </div>\n",
              "    <div style=\"\n",
              "        position: absolute;\n",
              "        bottom: 20px;\n",
              "        left: 20px;\n",
              "        color: white;\n",
              "        font-size: 24px;\n",
              "        text-shadow: 2px 2px 4px rgba(0,0,0,0.5);\">\n",
              "        Lung Ventilator System \n",
              "    </div>\n",
              "</div>\n"
            ]
          },
          "metadata": {},
          "execution_count": 5
        }
      ]
    },
    {
      "cell_type": "markdown",
      "source": [
        "Photo by [The Centers for Disease Control and Prevention](https://unsplash.com/@cdc) on Unsplash."
      ],
      "metadata": {
        "id": "hH2vKFhS7XEq"
      }
    },
    {
      "cell_type": "markdown",
      "source": [
        "# **Ventilator Pressure Prediction 💨**"
      ],
      "metadata": {
        "id": "GgQeGo2ae-gO"
      }
    },
    {
      "cell_type": "markdown",
      "source": [
        "Lorem ipsum dolor sit amet, consectetur adipiscing elit. Nulla blandit dictum quam sit amet elementum. Vestibulum sed augue eu augue euismod ornare at lobortis nibh. Aenean hendrerit non dui a faucibus. In ut tincidunt orci. Nunc quis scelerisque diam. Orci varius natoque penatibus et magnis dis parturient montes, nascetur ridiculus mus. Integer finibus lobortis nisi, venenatis sagittis ipsum cursus ac. Suspendisse nunc libero, bibendum a condimentum non, rhoncus vitae mauris. Vestibulum ullamcorper ligula tempor dui bibendum tempor. Donec blandit egestas lectus. Praesent finibus justo at dictum tempus. Nullam elementum sodales libero, semper tempus nisl pulvinar eu. Nunc eget ipsum arcu. Donec ullamcorper libero vel eleifend condimentum. Vivamus sit amet tincidunt mi. Integer malesuada augue a purus porttitor, ut semper odio pretium."
      ],
      "metadata": {
        "id": "byM2Q2UUe-vV"
      }
    },
    {
      "cell_type": "markdown",
      "source": [
        "**Authors:**\n",
        "- [Daniel Valdez](https://github.com/Danval-003)\n",
        "- [Emilio Solano](https://github.com/emiliosolanoo21)\n",
        "- [Adrian Flores](https://github.com/adrianRFlores)\n",
        "- [Andrea Ramírez](https://github.com/Andrea-gt)"
      ],
      "metadata": {
        "id": "60b2JN5We_VR"
      }
    },
    {
      "cell_type": "markdown",
      "source": [
        "***"
      ],
      "metadata": {
        "id": "VM4kDWEVhavY"
      }
    },
    {
      "cell_type": "markdown",
      "source": [
        "## **(i) Problem Statement and Analysis**"
      ],
      "metadata": {
        "id": "IQ8EvUGurHMZ"
      }
    },
    {
      "cell_type": "markdown",
      "source": [
        "La ventilación mecánica se ha convertido en un procedimiento médico esencial que implica el uso de ventiladores para administrar oxígeno a pacientes sedados  a través de un tubo endotraqueal. Sin embargo, este proceso enfrenta importantes desafíos, como se evidenció durante los primeros días de la pandemia de COVID-19, principalmente debido a la necesidad de supervisión clínica intensiva. Además, el desarrollo de nuevos métodos para controlar estos ventiladores resulta prohibitivamente costoso, incluso antes de llegar a la fase de ensayos clínicos.\n",
        "\n",
        "En respuesta a estos retos, Google Brain, en colaboración con la Universidad de Princeton, está liderando una iniciativa para revolucionar el campo de la ventilación mecánica mediante la aplicación de machine learning. Su enfoque busca superar las limitaciones de los simuladores actuales, que funcionan como un conjunto donde cada modelo simula una única configuración pulmonar. La propuesta  considera que los pulmones y sus atributos forman un espacio continuo, por lo que es necesario explorar un enfoque paramétrico que tenga en cuenta las diferencias entre los pulmones de los pacientes.\n",
        "\n",
        "El objetivo principal de este proyecto es desarrollar sistemas más sofisticados que puedan generalizar mejor entre pulmones con características variables, superando las capacidades de los controladores PID que son el estándar actual en la industria. Este avance podría reducir significativamente las barreras económicas en el desarrollo de nuevos métodos de control de ventiladores mecánicos, facilitando la creación de algoritmos que se adapten a las necesidades específicas de cada paciente. En última instancia, esto podría resultar en un acceso más amplio a tratamientos de ventilación y una reducción significativa de la carga de trabajo para el personal clínico, tanto en situaciones de crisis como en la práctica médica cotidiana."
      ],
      "metadata": {
        "id": "s-pXmuOsrKUS"
      }
    },
    {
      "cell_type": "markdown",
      "source": [
        "## **(1) Import Libraries** ⬇️"
      ],
      "metadata": {
        "id": "YO1r0CaWhdil"
      }
    },
    {
      "cell_type": "code",
      "execution_count": 6,
      "metadata": {
        "id": "mf3gd3nzejGi"
      },
      "outputs": [],
      "source": [
        "# ===== Standard Libraries =====\n",
        "import os  # For operating system utilities\n",
        "import warnings  # For warning management\n",
        "\n",
        "# Suppress warnings for cleaner output\n",
        "warnings.filterwarnings('ignore')\n",
        "\n",
        "# ===== Data Manipulation and Analysis =====\n",
        "import numpy as np  # For numerical computations\n",
        "import pandas as pd  # For data manipulation and analysis\n",
        "\n",
        "# ===== Visualization =====\n",
        "import matplotlib.pyplot as plt  # For basic plotting\n",
        "import seaborn as sns  # For enhanced data visualization\n",
        "from IPython.display import Image  # For displaying images in Jupyter Notebooks\n",
        "from IPython.core.display import HTML  # For displaying HTML content\n",
        "import base64  # For encoding/decoding binary data\n",
        "\n",
        "# Set default figure size and style\n",
        "plt.rcParams['figure.figsize'] = (6, 4)  # Default figure size\n",
        "sns.set(style=\"whitegrid\")  # Seaborn style for plots\n",
        "\n",
        "# Define custom color palette\n",
        "palette = sns.color_palette(\"viridis\", 12)\n",
        "\n",
        "# Enable inline plotting for Jupyter Notebooks\n",
        "%matplotlib inline\n",
        "\n",
        "# ===== File Handling =====\n",
        "from google.colab import files  # For file upload and download in Colab\n",
        "\n",
        "# ===== Progress Tracking =====\n",
        "from tqdm import tqdm  # For progress bars in loops\n",
        "\n",
        "# ===== Machine Learning and Deep Learning =====\n",
        "import tensorflow as tf  # For deep learning models\n",
        "from tensorflow import keras  # High-level neural networks API\n",
        "\n",
        "# Set a fixed seed for reproducibility\n",
        "random_state = 42\n",
        "np.random.seed(random_state)  # Seed for NumPy random functions\n",
        "tf.random.set_seed(random_state)  # Seed for TensorFlow random functions"
      ]
    },
    {
      "cell_type": "code",
      "source": [
        " # %pip install kaggle"
      ],
      "metadata": {
        "id": "jAMAtAIfiYYM"
      },
      "execution_count": null,
      "outputs": []
    },
    {
      "cell_type": "code",
      "source": [
        "# !pip install keras-tuner"
      ],
      "metadata": {
        "id": "lLKMiyXGic8G"
      },
      "execution_count": null,
      "outputs": []
    },
    {
      "cell_type": "markdown",
      "source": [
        "## **(2) Data Upload** 📄"
      ],
      "metadata": {
        "id": "SY39_alRh6hw"
      }
    },
    {
      "cell_type": "markdown",
      "source": [
        "### **(1) Downloading Datasets from Kaggle**"
      ],
      "metadata": {
        "id": "dywALUjHk3G2"
      }
    },
    {
      "cell_type": "code",
      "source": [
        "# Upload files from the local system to the Colab environment\n",
        "uploaded = files.upload()\n",
        "\n",
        "# Iterate over the files uploaded by the user\n",
        "for fn in uploaded.keys():\n",
        "    # Print information about each uploaded file, including its name and size in bytes\n",
        "    print('User uploaded file \"{name}\" with length {length} bytes'.format(\n",
        "        name=fn, length=len(uploaded[fn])))\n",
        "\n",
        "# Create the directory ~/.kaggle if it does not exist. This directory is where Kaggle API expects configuration files.\n",
        "!mkdir -p ~/.kaggle/\n",
        "\n",
        "# Move the uploaded kaggle.json file into the ~/.kaggle/ directory. This file contains API credentials for Kaggle.\n",
        "!mv kaggle.json ~/.kaggle/\n",
        "\n",
        "# Set the permissions of kaggle.json to be readable only by the owner. This is necessary for security reasons.\n",
        "!chmod 600 ~/.kaggle/kaggle.json"
      ],
      "metadata": {
        "id": "3Ooxm7Jyhtky"
      },
      "execution_count": null,
      "outputs": []
    },
    {
      "cell_type": "code",
      "source": [
        "  # !kaggle competitions download -c ventilator-pressure-prediction"
      ],
      "metadata": {
        "id": "UjjP_2qQjWs1"
      },
      "execution_count": null,
      "outputs": []
    },
    {
      "cell_type": "code",
      "source": [
        "  # !unzip /content/ventilator-pressure-prediction.zip"
      ],
      "metadata": {
        "id": "DbW_PNCOkrwf"
      },
      "execution_count": null,
      "outputs": []
    },
    {
      "cell_type": "markdown",
      "source": [
        "### **(2) Loading the Training Dataset**"
      ],
      "metadata": {
        "id": "VwvDwEABlJSe"
      }
    },
    {
      "cell_type": "code",
      "source": [
        "# Load the training dataset into a DataFrame\n",
        "df = pd.read_csv('train.csv')  # Read the CSV file 'train.csv' as a DataFrame\n",
        "\n",
        "# Display the first five rows of the DataFrame\n",
        "df.head()  # Preview the top entries to understand the data structure"
      ],
      "metadata": {
        "colab": {
          "base_uri": "https://localhost:8080/",
          "height": 206
        },
        "id": "DgOYMHEQk0mQ",
        "outputId": "028a6389-5d91-4f9b-e4df-107235fd6c47"
      },
      "execution_count": 12,
      "outputs": [
        {
          "output_type": "execute_result",
          "data": {
            "text/plain": [
              "   id  breath_id   R   C  time_step       u_in  u_out   pressure\n",
              "0   1          1  20  50   0.000000   0.083334      0   5.837492\n",
              "1   2          1  20  50   0.033652  18.383041      0   5.907794\n",
              "2   3          1  20  50   0.067514  22.509278      0   7.876254\n",
              "3   4          1  20  50   0.101542  22.808822      0  11.742872\n",
              "4   5          1  20  50   0.135756  25.355850      0  12.234987"
            ],
            "text/html": [
              "\n",
              "  <div id=\"df-503f8195-929c-4b02-8127-24b4dd7e13ce\" class=\"colab-df-container\">\n",
              "    <div>\n",
              "<style scoped>\n",
              "    .dataframe tbody tr th:only-of-type {\n",
              "        vertical-align: middle;\n",
              "    }\n",
              "\n",
              "    .dataframe tbody tr th {\n",
              "        vertical-align: top;\n",
              "    }\n",
              "\n",
              "    .dataframe thead th {\n",
              "        text-align: right;\n",
              "    }\n",
              "</style>\n",
              "<table border=\"1\" class=\"dataframe\">\n",
              "  <thead>\n",
              "    <tr style=\"text-align: right;\">\n",
              "      <th></th>\n",
              "      <th>id</th>\n",
              "      <th>breath_id</th>\n",
              "      <th>R</th>\n",
              "      <th>C</th>\n",
              "      <th>time_step</th>\n",
              "      <th>u_in</th>\n",
              "      <th>u_out</th>\n",
              "      <th>pressure</th>\n",
              "    </tr>\n",
              "  </thead>\n",
              "  <tbody>\n",
              "    <tr>\n",
              "      <th>0</th>\n",
              "      <td>1</td>\n",
              "      <td>1</td>\n",
              "      <td>20</td>\n",
              "      <td>50</td>\n",
              "      <td>0.000000</td>\n",
              "      <td>0.083334</td>\n",
              "      <td>0</td>\n",
              "      <td>5.837492</td>\n",
              "    </tr>\n",
              "    <tr>\n",
              "      <th>1</th>\n",
              "      <td>2</td>\n",
              "      <td>1</td>\n",
              "      <td>20</td>\n",
              "      <td>50</td>\n",
              "      <td>0.033652</td>\n",
              "      <td>18.383041</td>\n",
              "      <td>0</td>\n",
              "      <td>5.907794</td>\n",
              "    </tr>\n",
              "    <tr>\n",
              "      <th>2</th>\n",
              "      <td>3</td>\n",
              "      <td>1</td>\n",
              "      <td>20</td>\n",
              "      <td>50</td>\n",
              "      <td>0.067514</td>\n",
              "      <td>22.509278</td>\n",
              "      <td>0</td>\n",
              "      <td>7.876254</td>\n",
              "    </tr>\n",
              "    <tr>\n",
              "      <th>3</th>\n",
              "      <td>4</td>\n",
              "      <td>1</td>\n",
              "      <td>20</td>\n",
              "      <td>50</td>\n",
              "      <td>0.101542</td>\n",
              "      <td>22.808822</td>\n",
              "      <td>0</td>\n",
              "      <td>11.742872</td>\n",
              "    </tr>\n",
              "    <tr>\n",
              "      <th>4</th>\n",
              "      <td>5</td>\n",
              "      <td>1</td>\n",
              "      <td>20</td>\n",
              "      <td>50</td>\n",
              "      <td>0.135756</td>\n",
              "      <td>25.355850</td>\n",
              "      <td>0</td>\n",
              "      <td>12.234987</td>\n",
              "    </tr>\n",
              "  </tbody>\n",
              "</table>\n",
              "</div>\n",
              "    <div class=\"colab-df-buttons\">\n",
              "\n",
              "  <div class=\"colab-df-container\">\n",
              "    <button class=\"colab-df-convert\" onclick=\"convertToInteractive('df-503f8195-929c-4b02-8127-24b4dd7e13ce')\"\n",
              "            title=\"Convert this dataframe to an interactive table.\"\n",
              "            style=\"display:none;\">\n",
              "\n",
              "  <svg xmlns=\"http://www.w3.org/2000/svg\" height=\"24px\" viewBox=\"0 -960 960 960\">\n",
              "    <path d=\"M120-120v-720h720v720H120Zm60-500h600v-160H180v160Zm220 220h160v-160H400v160Zm0 220h160v-160H400v160ZM180-400h160v-160H180v160Zm440 0h160v-160H620v160ZM180-180h160v-160H180v160Zm440 0h160v-160H620v160Z\"/>\n",
              "  </svg>\n",
              "    </button>\n",
              "\n",
              "  <style>\n",
              "    .colab-df-container {\n",
              "      display:flex;\n",
              "      gap: 12px;\n",
              "    }\n",
              "\n",
              "    .colab-df-convert {\n",
              "      background-color: #E8F0FE;\n",
              "      border: none;\n",
              "      border-radius: 50%;\n",
              "      cursor: pointer;\n",
              "      display: none;\n",
              "      fill: #1967D2;\n",
              "      height: 32px;\n",
              "      padding: 0 0 0 0;\n",
              "      width: 32px;\n",
              "    }\n",
              "\n",
              "    .colab-df-convert:hover {\n",
              "      background-color: #E2EBFA;\n",
              "      box-shadow: 0px 1px 2px rgba(60, 64, 67, 0.3), 0px 1px 3px 1px rgba(60, 64, 67, 0.15);\n",
              "      fill: #174EA6;\n",
              "    }\n",
              "\n",
              "    .colab-df-buttons div {\n",
              "      margin-bottom: 4px;\n",
              "    }\n",
              "\n",
              "    [theme=dark] .colab-df-convert {\n",
              "      background-color: #3B4455;\n",
              "      fill: #D2E3FC;\n",
              "    }\n",
              "\n",
              "    [theme=dark] .colab-df-convert:hover {\n",
              "      background-color: #434B5C;\n",
              "      box-shadow: 0px 1px 3px 1px rgba(0, 0, 0, 0.15);\n",
              "      filter: drop-shadow(0px 1px 2px rgba(0, 0, 0, 0.3));\n",
              "      fill: #FFFFFF;\n",
              "    }\n",
              "  </style>\n",
              "\n",
              "    <script>\n",
              "      const buttonEl =\n",
              "        document.querySelector('#df-503f8195-929c-4b02-8127-24b4dd7e13ce button.colab-df-convert');\n",
              "      buttonEl.style.display =\n",
              "        google.colab.kernel.accessAllowed ? 'block' : 'none';\n",
              "\n",
              "      async function convertToInteractive(key) {\n",
              "        const element = document.querySelector('#df-503f8195-929c-4b02-8127-24b4dd7e13ce');\n",
              "        const dataTable =\n",
              "          await google.colab.kernel.invokeFunction('convertToInteractive',\n",
              "                                                    [key], {});\n",
              "        if (!dataTable) return;\n",
              "\n",
              "        const docLinkHtml = 'Like what you see? Visit the ' +\n",
              "          '<a target=\"_blank\" href=https://colab.research.google.com/notebooks/data_table.ipynb>data table notebook</a>'\n",
              "          + ' to learn more about interactive tables.';\n",
              "        element.innerHTML = '';\n",
              "        dataTable['output_type'] = 'display_data';\n",
              "        await google.colab.output.renderOutput(dataTable, element);\n",
              "        const docLink = document.createElement('div');\n",
              "        docLink.innerHTML = docLinkHtml;\n",
              "        element.appendChild(docLink);\n",
              "      }\n",
              "    </script>\n",
              "  </div>\n",
              "\n",
              "\n",
              "<div id=\"df-cca66820-fa74-4624-9ee8-de3ddfda881f\">\n",
              "  <button class=\"colab-df-quickchart\" onclick=\"quickchart('df-cca66820-fa74-4624-9ee8-de3ddfda881f')\"\n",
              "            title=\"Suggest charts\"\n",
              "            style=\"display:none;\">\n",
              "\n",
              "<svg xmlns=\"http://www.w3.org/2000/svg\" height=\"24px\"viewBox=\"0 0 24 24\"\n",
              "     width=\"24px\">\n",
              "    <g>\n",
              "        <path d=\"M19 3H5c-1.1 0-2 .9-2 2v14c0 1.1.9 2 2 2h14c1.1 0 2-.9 2-2V5c0-1.1-.9-2-2-2zM9 17H7v-7h2v7zm4 0h-2V7h2v10zm4 0h-2v-4h2v4z\"/>\n",
              "    </g>\n",
              "</svg>\n",
              "  </button>\n",
              "\n",
              "<style>\n",
              "  .colab-df-quickchart {\n",
              "      --bg-color: #E8F0FE;\n",
              "      --fill-color: #1967D2;\n",
              "      --hover-bg-color: #E2EBFA;\n",
              "      --hover-fill-color: #174EA6;\n",
              "      --disabled-fill-color: #AAA;\n",
              "      --disabled-bg-color: #DDD;\n",
              "  }\n",
              "\n",
              "  [theme=dark] .colab-df-quickchart {\n",
              "      --bg-color: #3B4455;\n",
              "      --fill-color: #D2E3FC;\n",
              "      --hover-bg-color: #434B5C;\n",
              "      --hover-fill-color: #FFFFFF;\n",
              "      --disabled-bg-color: #3B4455;\n",
              "      --disabled-fill-color: #666;\n",
              "  }\n",
              "\n",
              "  .colab-df-quickchart {\n",
              "    background-color: var(--bg-color);\n",
              "    border: none;\n",
              "    border-radius: 50%;\n",
              "    cursor: pointer;\n",
              "    display: none;\n",
              "    fill: var(--fill-color);\n",
              "    height: 32px;\n",
              "    padding: 0;\n",
              "    width: 32px;\n",
              "  }\n",
              "\n",
              "  .colab-df-quickchart:hover {\n",
              "    background-color: var(--hover-bg-color);\n",
              "    box-shadow: 0 1px 2px rgba(60, 64, 67, 0.3), 0 1px 3px 1px rgba(60, 64, 67, 0.15);\n",
              "    fill: var(--button-hover-fill-color);\n",
              "  }\n",
              "\n",
              "  .colab-df-quickchart-complete:disabled,\n",
              "  .colab-df-quickchart-complete:disabled:hover {\n",
              "    background-color: var(--disabled-bg-color);\n",
              "    fill: var(--disabled-fill-color);\n",
              "    box-shadow: none;\n",
              "  }\n",
              "\n",
              "  .colab-df-spinner {\n",
              "    border: 2px solid var(--fill-color);\n",
              "    border-color: transparent;\n",
              "    border-bottom-color: var(--fill-color);\n",
              "    animation:\n",
              "      spin 1s steps(1) infinite;\n",
              "  }\n",
              "\n",
              "  @keyframes spin {\n",
              "    0% {\n",
              "      border-color: transparent;\n",
              "      border-bottom-color: var(--fill-color);\n",
              "      border-left-color: var(--fill-color);\n",
              "    }\n",
              "    20% {\n",
              "      border-color: transparent;\n",
              "      border-left-color: var(--fill-color);\n",
              "      border-top-color: var(--fill-color);\n",
              "    }\n",
              "    30% {\n",
              "      border-color: transparent;\n",
              "      border-left-color: var(--fill-color);\n",
              "      border-top-color: var(--fill-color);\n",
              "      border-right-color: var(--fill-color);\n",
              "    }\n",
              "    40% {\n",
              "      border-color: transparent;\n",
              "      border-right-color: var(--fill-color);\n",
              "      border-top-color: var(--fill-color);\n",
              "    }\n",
              "    60% {\n",
              "      border-color: transparent;\n",
              "      border-right-color: var(--fill-color);\n",
              "    }\n",
              "    80% {\n",
              "      border-color: transparent;\n",
              "      border-right-color: var(--fill-color);\n",
              "      border-bottom-color: var(--fill-color);\n",
              "    }\n",
              "    90% {\n",
              "      border-color: transparent;\n",
              "      border-bottom-color: var(--fill-color);\n",
              "    }\n",
              "  }\n",
              "</style>\n",
              "\n",
              "  <script>\n",
              "    async function quickchart(key) {\n",
              "      const quickchartButtonEl =\n",
              "        document.querySelector('#' + key + ' button');\n",
              "      quickchartButtonEl.disabled = true;  // To prevent multiple clicks.\n",
              "      quickchartButtonEl.classList.add('colab-df-spinner');\n",
              "      try {\n",
              "        const charts = await google.colab.kernel.invokeFunction(\n",
              "            'suggestCharts', [key], {});\n",
              "      } catch (error) {\n",
              "        console.error('Error during call to suggestCharts:', error);\n",
              "      }\n",
              "      quickchartButtonEl.classList.remove('colab-df-spinner');\n",
              "      quickchartButtonEl.classList.add('colab-df-quickchart-complete');\n",
              "    }\n",
              "    (() => {\n",
              "      let quickchartButtonEl =\n",
              "        document.querySelector('#df-cca66820-fa74-4624-9ee8-de3ddfda881f button');\n",
              "      quickchartButtonEl.style.display =\n",
              "        google.colab.kernel.accessAllowed ? 'block' : 'none';\n",
              "    })();\n",
              "  </script>\n",
              "</div>\n",
              "\n",
              "    </div>\n",
              "  </div>\n"
            ],
            "application/vnd.google.colaboratory.intrinsic+json": {
              "type": "dataframe",
              "variable_name": "df"
            }
          },
          "metadata": {},
          "execution_count": 12
        }
      ]
    },
    {
      "cell_type": "markdown",
      "source": [
        "## **(3) Exploratory Data Analysis 🔎**"
      ],
      "metadata": {
        "id": "5e1rCLasmNGK"
      }
    },
    {
      "cell_type": "markdown",
      "source": [
        "Los datos empleados en la competencia se obtuvieron mediante un ventilador de código abierto modificado, conectado a un pulmón artificial de fuelle a través de un circuito respiratorio. El sistema incorpora dos variables de control fundamentales: la primera es una variable continua que oscila entre 0 y 100, representando el porcentaje de apertura de la válvula solenoide inspiratoria que permite la entrada de aire al pulmón (donde **0 indica un cierre completo** sin entrada de aire, y **100 una apertura total**). La segunda variable es binaria y controla la válvula exploratoria, indicando si está **abierta (1) o cerrada (0)** para permitir la salida del aire.\n",
        "\n",
        "En este contexto, se reciben múltiples series temporales de respiraciones y se debe de desarrollar modelos para predecir la presión de la vía aérea en el circuito respiratorio durante la respiración, basándose en las series temporales de las variables de control mencionadas antes."
      ],
      "metadata": {
        "id": "0XX78p9QzeOS"
      }
    },
    {
      "cell_type": "markdown",
      "source": [
        "### **(1) Dataset Overview and Description**"
      ],
      "metadata": {
        "id": "nZxryjnXnhvj"
      }
    },
    {
      "cell_type": "code",
      "source": [
        "# Print the number of records in the DataFrame\n",
        "print(\"The given dataset has {:,} records and {:,} columns.\".format(df.shape[0], df.shape[1]))"
      ],
      "metadata": {
        "colab": {
          "base_uri": "https://localhost:8080/"
        },
        "id": "wRvdaef6lZdW",
        "outputId": "110a6aba-06b4-4e3b-9ccd-484bf6654002"
      },
      "execution_count": 13,
      "outputs": [
        {
          "output_type": "stream",
          "name": "stdout",
          "text": [
            "The given dataset has 6,036,000 records and 8 columns.\n"
          ]
        }
      ]
    },
    {
      "cell_type": "markdown",
      "source": [
        "**Observaciones 💡 -->**\n",
        "> - El conjunto de datos `train.csv`, con el que se está trabajando cuenta con 6,036,000 registros y 8 columnas, lo que indica que se trata de un conjunto de datos con una dimensión relativamente grande y  moderadamente detallado.\n",
        "\n",
        "> - Cada serie temporal representa una respiración de aproximadamente 3 segundos. Cada fila es un paso de tiempo en una respiración y proporciona las dos señales de control, la presión resultante en las vías respiratorias y los atributos relevantes del pulmón.\n",
        "\n",
        "> - Nótese que cada ciclo de respiración (`breath_id`) se registra en múltiples intervalos de tiempo, proporcionando mediciones continuas de `u_in`, `u_out` y `pressure`.\n",
        "\n",
        "**Fuente:** [Página oficial de Kaggle](https://www.kaggle.com/competitions/ventilator-pressure-prediction/overview)"
      ],
      "metadata": {
        "id": "NuK9ymsMnpld"
      }
    },
    {
      "cell_type": "code",
      "source": [
        "# Basic information about the dataset\n",
        "df.info()"
      ],
      "metadata": {
        "colab": {
          "base_uri": "https://localhost:8080/"
        },
        "id": "7sdij44Enl9j",
        "outputId": "7e600088-bcbd-44ae-849b-a8ac8ebcac16"
      },
      "execution_count": 14,
      "outputs": [
        {
          "output_type": "stream",
          "name": "stdout",
          "text": [
            "<class 'pandas.core.frame.DataFrame'>\n",
            "RangeIndex: 6036000 entries, 0 to 6035999\n",
            "Data columns (total 8 columns):\n",
            " #   Column     Dtype  \n",
            "---  ------     -----  \n",
            " 0   id         int64  \n",
            " 1   breath_id  int64  \n",
            " 2   R          int64  \n",
            " 3   C          int64  \n",
            " 4   time_step  float64\n",
            " 5   u_in       float64\n",
            " 6   u_out      int64  \n",
            " 7   pressure   float64\n",
            "dtypes: float64(3), int64(5)\n",
            "memory usage: 368.4 MB\n"
          ]
        }
      ]
    },
    {
      "cell_type": "markdown",
      "source": [
        "**Observaciones 💡 -->**"
      ],
      "metadata": {
        "id": "8IjRJpzPpytk"
      }
    },
    {
      "cell_type": "markdown",
      "source": [
        "Como se puede observar en la pequeña tabla colocada anteriormente, se cuenta con las siguietes columnas en el conjunto de datos:\n",
        "Aquí tienes una lista explicando las columnas del conjunto de datos de manera sencilla:\n",
        "\n",
        "> - **id**: Identificador único para cada paso de tiempo en todo el archivo.\n",
        "\n",
        "> - **breath_id**: Identificador único para cada ciclo de respiración.\n",
        "\n",
        "> - **R**: Este valor indica cuán restringido está el paso del aire por las vías respiratorias, medido en cmH2O por litro por segundo. Es como la resistencia que sientes al tratar de inflar un globo a través de una pajilla: una pajilla más estrecha (alto R) hará que sea más difícil inflar el globo, mientras que una más ancha (bajo R) lo hará más fácil.\n",
        "\n",
        "> - **C**: Este valor indica cuán flexible es el pulmón, medido en mililitros por cmH2O. Representa el cambio en el volumen de aire por cada cambio en la presión. Siguiendo con el ejemplo del globo, un globo más delgado (alto C) se inflará más fácilmente que uno más grueso (bajo C).\n",
        "\n",
        "> - **time_step**: Este es el instante exacto en el que se realizó cada medición.\n",
        "\n",
        "> - **u_in**: Este es el control para una válvula que permite la entrada de aire (inspiración) al pulmón. Sus valores varían entre 0 y 100, donde 0 significa que no se está permitiendo la entrada de aire y 100 significa que se está permitiendo la entrada máxima.\n",
        "\n",
        "> - **u_out**: Este es el control para una válvula que permite la salida de aire (espiración) del pulmón. Puede tener un valor de 0 (sin salida de aire) o 1 (salida de aire permitida).\n",
        "\n",
        "> - **pressure**: Este valor mide la presión en las vías respiratorias del circuito respiratorio, expresado en cmH2O. Indica cuánta presión se está ejerciendo en el aire dentro de las vías respiratorias durante la respiración."
      ],
      "metadata": {
        "id": "nrwihRmXpoVD"
      }
    },
    {
      "cell_type": "markdown",
      "source": [
        "### **(2) Variable Classification and Description**"
      ],
      "metadata": {
        "id": "WOMacZmLq4TT"
      }
    },
    {
      "cell_type": "markdown",
      "source": [
        "| **Nombre**       | **Descripción**                         | **Tipo de Variable**         |\n",
        "|------------------|-----------------------------------------|------------------------------|\n",
        "| id               | Identificador único                     | Cualitativa (Nominal)        |\n",
        "| breath_id        | Identificador de ciclo de respiración   | Cualitativa (Nominal)        |\n",
        "| R                | Resistencia de las vías respiratorias   | Cuantitativa (Continua)      |\n",
        "| C                | Cumplimiento del pulmón                 | Cuantitativa (Continua)      |\n",
        "| time_step        | Marca de tiempo de cada medición        | Cuantitativa (Continua)      |\n",
        "| u_in             | Entrada de aire en la válvula           | Cuantitativa (Discreta)      |\n",
        "| u_out            | Salida de aire en la válvula            | Cualitativa (Nominal)        |\n",
        "| pressure         | Presión en las vías respiratorias       | Cuantitativa (Continua)      |\n"
      ],
      "metadata": {
        "id": "l6e-mdN8rsDh"
      }
    },
    {
      "cell_type": "markdown",
      "source": [
        "**Observaciones 💡 -->**\n",
        "> - Se observa que el conjunto de datos incluye tres variables cualitativas, todas de tipo nominal, y cinco variables cuantitativas que se distribuyen entre continuas y discretas."
      ],
      "metadata": {
        "id": "QUUbsfiOr5Vi"
      }
    },
    {
      "cell_type": "markdown",
      "source": [
        "### **(3) Preliminary Data Exploration and Cleaning**"
      ],
      "metadata": {
        "id": "p3hbqrETy_G9"
      }
    },
    {
      "cell_type": "markdown",
      "source": [
        "#### **(1) Data Preprocessing and Preparation**"
      ],
      "metadata": {
        "id": "pMFM1TObzM6Z"
      }
    },
    {
      "cell_type": "markdown",
      "source": [
        "##### **(1) Removing Irrelevant Features**"
      ],
      "metadata": {
        "id": "0rz3S0KlLRIz"
      }
    },
    {
      "cell_type": "code",
      "source": [
        "# Drop the 'id' column from the DataFrame 'df'\n",
        "# The 'inplace=True' parameter means the operation will modify the original DataFrame directly\n",
        "df.drop(columns=['id'], inplace=True)"
      ],
      "metadata": {
        "id": "8dqCRw73plYd"
      },
      "execution_count": 15,
      "outputs": []
    },
    {
      "cell_type": "markdown",
      "source": [
        "**Observaciones 💡 -->**\n",
        "> - Se procede a la eliminación de la columna `id`. Dado que cada registro corresponde a una observación única, esta columna no aporta información relevante o significativa para el modelo o análisis. Al eliminarla, se reduce la dimensionalidad, lo que puede mejorar la eficiencia del algoritmo y simplificar la interpretación posterior de este."
      ],
      "metadata": {
        "id": "3tzMdCR-B9tK"
      }
    },
    {
      "cell_type": "code",
      "source": [
        "# Generate basic descriptive statistics for the features in the training DataFrame\n",
        "# Display the styled DataFrame with basic statistics\n",
        "df.describe()"
      ],
      "metadata": {
        "colab": {
          "base_uri": "https://localhost:8080/",
          "height": 300
        },
        "id": "-NGu3S4tBSN2",
        "outputId": "60da7ab2-59c7-45c4-d500-059e94208212"
      },
      "execution_count": 16,
      "outputs": [
        {
          "output_type": "execute_result",
          "data": {
            "text/plain": [
              "          breath_id             R             C     time_step          u_in  \\\n",
              "count  6.036000e+06  6.036000e+06  6.036000e+06  6.036000e+06  6.036000e+06   \n",
              "mean   6.283886e+04  2.703618e+01  2.608072e+01  1.307225e+00  7.321615e+00   \n",
              "std    3.633526e+04  1.959549e+01  1.715231e+01  7.659778e-01  1.343470e+01   \n",
              "min    1.000000e+00  5.000000e+00  1.000000e+01  0.000000e+00  0.000000e+00   \n",
              "25%    3.137700e+04  5.000000e+00  1.000000e+01  6.428995e-01  3.936623e-01   \n",
              "50%    6.276550e+04  2.000000e+01  2.000000e+01  1.308123e+00  4.386146e+00   \n",
              "75%    9.430100e+04  5.000000e+01  5.000000e+01  1.965502e+00  4.983895e+00   \n",
              "max    1.257490e+05  5.000000e+01  5.000000e+01  2.937238e+00  1.000000e+02   \n",
              "\n",
              "              u_out      pressure  \n",
              "count  6.036000e+06  6.036000e+06  \n",
              "mean   6.204493e-01  1.122041e+01  \n",
              "std    4.852752e-01  8.109703e+00  \n",
              "min    0.000000e+00 -1.895744e+00  \n",
              "25%    0.000000e+00  6.329607e+00  \n",
              "50%    1.000000e+00  7.032628e+00  \n",
              "75%    1.000000e+00  1.364103e+01  \n",
              "max    1.000000e+00  6.482099e+01  "
            ],
            "text/html": [
              "\n",
              "  <div id=\"df-c9cc3c97-4849-4f88-8b18-558fdd551bb5\" class=\"colab-df-container\">\n",
              "    <div>\n",
              "<style scoped>\n",
              "    .dataframe tbody tr th:only-of-type {\n",
              "        vertical-align: middle;\n",
              "    }\n",
              "\n",
              "    .dataframe tbody tr th {\n",
              "        vertical-align: top;\n",
              "    }\n",
              "\n",
              "    .dataframe thead th {\n",
              "        text-align: right;\n",
              "    }\n",
              "</style>\n",
              "<table border=\"1\" class=\"dataframe\">\n",
              "  <thead>\n",
              "    <tr style=\"text-align: right;\">\n",
              "      <th></th>\n",
              "      <th>breath_id</th>\n",
              "      <th>R</th>\n",
              "      <th>C</th>\n",
              "      <th>time_step</th>\n",
              "      <th>u_in</th>\n",
              "      <th>u_out</th>\n",
              "      <th>pressure</th>\n",
              "    </tr>\n",
              "  </thead>\n",
              "  <tbody>\n",
              "    <tr>\n",
              "      <th>count</th>\n",
              "      <td>6.036000e+06</td>\n",
              "      <td>6.036000e+06</td>\n",
              "      <td>6.036000e+06</td>\n",
              "      <td>6.036000e+06</td>\n",
              "      <td>6.036000e+06</td>\n",
              "      <td>6.036000e+06</td>\n",
              "      <td>6.036000e+06</td>\n",
              "    </tr>\n",
              "    <tr>\n",
              "      <th>mean</th>\n",
              "      <td>6.283886e+04</td>\n",
              "      <td>2.703618e+01</td>\n",
              "      <td>2.608072e+01</td>\n",
              "      <td>1.307225e+00</td>\n",
              "      <td>7.321615e+00</td>\n",
              "      <td>6.204493e-01</td>\n",
              "      <td>1.122041e+01</td>\n",
              "    </tr>\n",
              "    <tr>\n",
              "      <th>std</th>\n",
              "      <td>3.633526e+04</td>\n",
              "      <td>1.959549e+01</td>\n",
              "      <td>1.715231e+01</td>\n",
              "      <td>7.659778e-01</td>\n",
              "      <td>1.343470e+01</td>\n",
              "      <td>4.852752e-01</td>\n",
              "      <td>8.109703e+00</td>\n",
              "    </tr>\n",
              "    <tr>\n",
              "      <th>min</th>\n",
              "      <td>1.000000e+00</td>\n",
              "      <td>5.000000e+00</td>\n",
              "      <td>1.000000e+01</td>\n",
              "      <td>0.000000e+00</td>\n",
              "      <td>0.000000e+00</td>\n",
              "      <td>0.000000e+00</td>\n",
              "      <td>-1.895744e+00</td>\n",
              "    </tr>\n",
              "    <tr>\n",
              "      <th>25%</th>\n",
              "      <td>3.137700e+04</td>\n",
              "      <td>5.000000e+00</td>\n",
              "      <td>1.000000e+01</td>\n",
              "      <td>6.428995e-01</td>\n",
              "      <td>3.936623e-01</td>\n",
              "      <td>0.000000e+00</td>\n",
              "      <td>6.329607e+00</td>\n",
              "    </tr>\n",
              "    <tr>\n",
              "      <th>50%</th>\n",
              "      <td>6.276550e+04</td>\n",
              "      <td>2.000000e+01</td>\n",
              "      <td>2.000000e+01</td>\n",
              "      <td>1.308123e+00</td>\n",
              "      <td>4.386146e+00</td>\n",
              "      <td>1.000000e+00</td>\n",
              "      <td>7.032628e+00</td>\n",
              "    </tr>\n",
              "    <tr>\n",
              "      <th>75%</th>\n",
              "      <td>9.430100e+04</td>\n",
              "      <td>5.000000e+01</td>\n",
              "      <td>5.000000e+01</td>\n",
              "      <td>1.965502e+00</td>\n",
              "      <td>4.983895e+00</td>\n",
              "      <td>1.000000e+00</td>\n",
              "      <td>1.364103e+01</td>\n",
              "    </tr>\n",
              "    <tr>\n",
              "      <th>max</th>\n",
              "      <td>1.257490e+05</td>\n",
              "      <td>5.000000e+01</td>\n",
              "      <td>5.000000e+01</td>\n",
              "      <td>2.937238e+00</td>\n",
              "      <td>1.000000e+02</td>\n",
              "      <td>1.000000e+00</td>\n",
              "      <td>6.482099e+01</td>\n",
              "    </tr>\n",
              "  </tbody>\n",
              "</table>\n",
              "</div>\n",
              "    <div class=\"colab-df-buttons\">\n",
              "\n",
              "  <div class=\"colab-df-container\">\n",
              "    <button class=\"colab-df-convert\" onclick=\"convertToInteractive('df-c9cc3c97-4849-4f88-8b18-558fdd551bb5')\"\n",
              "            title=\"Convert this dataframe to an interactive table.\"\n",
              "            style=\"display:none;\">\n",
              "\n",
              "  <svg xmlns=\"http://www.w3.org/2000/svg\" height=\"24px\" viewBox=\"0 -960 960 960\">\n",
              "    <path d=\"M120-120v-720h720v720H120Zm60-500h600v-160H180v160Zm220 220h160v-160H400v160Zm0 220h160v-160H400v160ZM180-400h160v-160H180v160Zm440 0h160v-160H620v160ZM180-180h160v-160H180v160Zm440 0h160v-160H620v160Z\"/>\n",
              "  </svg>\n",
              "    </button>\n",
              "\n",
              "  <style>\n",
              "    .colab-df-container {\n",
              "      display:flex;\n",
              "      gap: 12px;\n",
              "    }\n",
              "\n",
              "    .colab-df-convert {\n",
              "      background-color: #E8F0FE;\n",
              "      border: none;\n",
              "      border-radius: 50%;\n",
              "      cursor: pointer;\n",
              "      display: none;\n",
              "      fill: #1967D2;\n",
              "      height: 32px;\n",
              "      padding: 0 0 0 0;\n",
              "      width: 32px;\n",
              "    }\n",
              "\n",
              "    .colab-df-convert:hover {\n",
              "      background-color: #E2EBFA;\n",
              "      box-shadow: 0px 1px 2px rgba(60, 64, 67, 0.3), 0px 1px 3px 1px rgba(60, 64, 67, 0.15);\n",
              "      fill: #174EA6;\n",
              "    }\n",
              "\n",
              "    .colab-df-buttons div {\n",
              "      margin-bottom: 4px;\n",
              "    }\n",
              "\n",
              "    [theme=dark] .colab-df-convert {\n",
              "      background-color: #3B4455;\n",
              "      fill: #D2E3FC;\n",
              "    }\n",
              "\n",
              "    [theme=dark] .colab-df-convert:hover {\n",
              "      background-color: #434B5C;\n",
              "      box-shadow: 0px 1px 3px 1px rgba(0, 0, 0, 0.15);\n",
              "      filter: drop-shadow(0px 1px 2px rgba(0, 0, 0, 0.3));\n",
              "      fill: #FFFFFF;\n",
              "    }\n",
              "  </style>\n",
              "\n",
              "    <script>\n",
              "      const buttonEl =\n",
              "        document.querySelector('#df-c9cc3c97-4849-4f88-8b18-558fdd551bb5 button.colab-df-convert');\n",
              "      buttonEl.style.display =\n",
              "        google.colab.kernel.accessAllowed ? 'block' : 'none';\n",
              "\n",
              "      async function convertToInteractive(key) {\n",
              "        const element = document.querySelector('#df-c9cc3c97-4849-4f88-8b18-558fdd551bb5');\n",
              "        const dataTable =\n",
              "          await google.colab.kernel.invokeFunction('convertToInteractive',\n",
              "                                                    [key], {});\n",
              "        if (!dataTable) return;\n",
              "\n",
              "        const docLinkHtml = 'Like what you see? Visit the ' +\n",
              "          '<a target=\"_blank\" href=https://colab.research.google.com/notebooks/data_table.ipynb>data table notebook</a>'\n",
              "          + ' to learn more about interactive tables.';\n",
              "        element.innerHTML = '';\n",
              "        dataTable['output_type'] = 'display_data';\n",
              "        await google.colab.output.renderOutput(dataTable, element);\n",
              "        const docLink = document.createElement('div');\n",
              "        docLink.innerHTML = docLinkHtml;\n",
              "        element.appendChild(docLink);\n",
              "      }\n",
              "    </script>\n",
              "  </div>\n",
              "\n",
              "\n",
              "<div id=\"df-5be63564-2c70-4b11-836d-0c3c739f20a8\">\n",
              "  <button class=\"colab-df-quickchart\" onclick=\"quickchart('df-5be63564-2c70-4b11-836d-0c3c739f20a8')\"\n",
              "            title=\"Suggest charts\"\n",
              "            style=\"display:none;\">\n",
              "\n",
              "<svg xmlns=\"http://www.w3.org/2000/svg\" height=\"24px\"viewBox=\"0 0 24 24\"\n",
              "     width=\"24px\">\n",
              "    <g>\n",
              "        <path d=\"M19 3H5c-1.1 0-2 .9-2 2v14c0 1.1.9 2 2 2h14c1.1 0 2-.9 2-2V5c0-1.1-.9-2-2-2zM9 17H7v-7h2v7zm4 0h-2V7h2v10zm4 0h-2v-4h2v4z\"/>\n",
              "    </g>\n",
              "</svg>\n",
              "  </button>\n",
              "\n",
              "<style>\n",
              "  .colab-df-quickchart {\n",
              "      --bg-color: #E8F0FE;\n",
              "      --fill-color: #1967D2;\n",
              "      --hover-bg-color: #E2EBFA;\n",
              "      --hover-fill-color: #174EA6;\n",
              "      --disabled-fill-color: #AAA;\n",
              "      --disabled-bg-color: #DDD;\n",
              "  }\n",
              "\n",
              "  [theme=dark] .colab-df-quickchart {\n",
              "      --bg-color: #3B4455;\n",
              "      --fill-color: #D2E3FC;\n",
              "      --hover-bg-color: #434B5C;\n",
              "      --hover-fill-color: #FFFFFF;\n",
              "      --disabled-bg-color: #3B4455;\n",
              "      --disabled-fill-color: #666;\n",
              "  }\n",
              "\n",
              "  .colab-df-quickchart {\n",
              "    background-color: var(--bg-color);\n",
              "    border: none;\n",
              "    border-radius: 50%;\n",
              "    cursor: pointer;\n",
              "    display: none;\n",
              "    fill: var(--fill-color);\n",
              "    height: 32px;\n",
              "    padding: 0;\n",
              "    width: 32px;\n",
              "  }\n",
              "\n",
              "  .colab-df-quickchart:hover {\n",
              "    background-color: var(--hover-bg-color);\n",
              "    box-shadow: 0 1px 2px rgba(60, 64, 67, 0.3), 0 1px 3px 1px rgba(60, 64, 67, 0.15);\n",
              "    fill: var(--button-hover-fill-color);\n",
              "  }\n",
              "\n",
              "  .colab-df-quickchart-complete:disabled,\n",
              "  .colab-df-quickchart-complete:disabled:hover {\n",
              "    background-color: var(--disabled-bg-color);\n",
              "    fill: var(--disabled-fill-color);\n",
              "    box-shadow: none;\n",
              "  }\n",
              "\n",
              "  .colab-df-spinner {\n",
              "    border: 2px solid var(--fill-color);\n",
              "    border-color: transparent;\n",
              "    border-bottom-color: var(--fill-color);\n",
              "    animation:\n",
              "      spin 1s steps(1) infinite;\n",
              "  }\n",
              "\n",
              "  @keyframes spin {\n",
              "    0% {\n",
              "      border-color: transparent;\n",
              "      border-bottom-color: var(--fill-color);\n",
              "      border-left-color: var(--fill-color);\n",
              "    }\n",
              "    20% {\n",
              "      border-color: transparent;\n",
              "      border-left-color: var(--fill-color);\n",
              "      border-top-color: var(--fill-color);\n",
              "    }\n",
              "    30% {\n",
              "      border-color: transparent;\n",
              "      border-left-color: var(--fill-color);\n",
              "      border-top-color: var(--fill-color);\n",
              "      border-right-color: var(--fill-color);\n",
              "    }\n",
              "    40% {\n",
              "      border-color: transparent;\n",
              "      border-right-color: var(--fill-color);\n",
              "      border-top-color: var(--fill-color);\n",
              "    }\n",
              "    60% {\n",
              "      border-color: transparent;\n",
              "      border-right-color: var(--fill-color);\n",
              "    }\n",
              "    80% {\n",
              "      border-color: transparent;\n",
              "      border-right-color: var(--fill-color);\n",
              "      border-bottom-color: var(--fill-color);\n",
              "    }\n",
              "    90% {\n",
              "      border-color: transparent;\n",
              "      border-bottom-color: var(--fill-color);\n",
              "    }\n",
              "  }\n",
              "</style>\n",
              "\n",
              "  <script>\n",
              "    async function quickchart(key) {\n",
              "      const quickchartButtonEl =\n",
              "        document.querySelector('#' + key + ' button');\n",
              "      quickchartButtonEl.disabled = true;  // To prevent multiple clicks.\n",
              "      quickchartButtonEl.classList.add('colab-df-spinner');\n",
              "      try {\n",
              "        const charts = await google.colab.kernel.invokeFunction(\n",
              "            'suggestCharts', [key], {});\n",
              "      } catch (error) {\n",
              "        console.error('Error during call to suggestCharts:', error);\n",
              "      }\n",
              "      quickchartButtonEl.classList.remove('colab-df-spinner');\n",
              "      quickchartButtonEl.classList.add('colab-df-quickchart-complete');\n",
              "    }\n",
              "    (() => {\n",
              "      let quickchartButtonEl =\n",
              "        document.querySelector('#df-5be63564-2c70-4b11-836d-0c3c739f20a8 button');\n",
              "      quickchartButtonEl.style.display =\n",
              "        google.colab.kernel.accessAllowed ? 'block' : 'none';\n",
              "    })();\n",
              "  </script>\n",
              "</div>\n",
              "\n",
              "    </div>\n",
              "  </div>\n"
            ],
            "application/vnd.google.colaboratory.intrinsic+json": {
              "type": "dataframe",
              "summary": "{\n  \"name\": \"df\",\n  \"rows\": 8,\n  \"fields\": [\n    {\n      \"column\": \"breath_id\",\n      \"properties\": {\n        \"dtype\": \"number\",\n        \"std\": 2113524.5328840697,\n        \"min\": 1.0,\n        \"max\": 6036000.0,\n        \"num_unique_values\": 8,\n        \"samples\": [\n          62838.85870112658,\n          62765.5,\n          6036000.0\n        ],\n        \"semantic_type\": \"\",\n        \"description\": \"\"\n      }\n    },\n    {\n      \"column\": \"R\",\n      \"properties\": {\n        \"dtype\": \"number\",\n        \"std\": 2134039.3444448407,\n        \"min\": 5.0,\n        \"max\": 6036000.0,\n        \"num_unique_values\": 6,\n        \"samples\": [\n          6036000.0,\n          27.036182902584493,\n          50.0\n        ],\n        \"semantic_type\": \"\",\n        \"description\": \"\"\n      }\n    },\n    {\n      \"column\": \"C\",\n      \"properties\": {\n        \"dtype\": \"number\",\n        \"std\": 2134039.011014942,\n        \"min\": 10.0,\n        \"max\": 6036000.0,\n        \"num_unique_values\": 6,\n        \"samples\": [\n          6036000.0,\n          26.080715705765407,\n          50.0\n        ],\n        \"semantic_type\": \"\",\n        \"description\": \"\"\n      }\n    },\n    {\n      \"column\": \"time_step\",\n      \"properties\": {\n        \"dtype\": \"number\",\n        \"std\": 2134047.8147413856,\n        \"min\": 0.0,\n        \"max\": 6036000.0,\n        \"num_unique_values\": 8,\n        \"samples\": [\n          1.3072248668385074,\n          1.308122634887695,\n          6036000.0\n        ],\n        \"semantic_type\": \"\",\n        \"description\": \"\"\n      }\n    },\n    {\n      \"column\": \"u_in\",\n      \"properties\": {\n        \"dtype\": \"number\",\n        \"std\": 2134041.673627094,\n        \"min\": 0.0,\n        \"max\": 6036000.0,\n        \"num_unique_values\": 8,\n        \"samples\": [\n          7.321614728628858,\n          4.386146435306453,\n          6036000.0\n        ],\n        \"semantic_type\": \"\",\n        \"description\": \"\"\n      }\n    },\n    {\n      \"column\": \"u_out\",\n      \"properties\": {\n        \"dtype\": \"number\",\n        \"std\": 2134048.058250639,\n        \"min\": 0.0,\n        \"max\": 6036000.0,\n        \"num_unique_values\": 5,\n        \"samples\": [\n          0.6204493041749503,\n          1.0,\n          0.4852751839292508\n        ],\n        \"semantic_type\": \"\",\n        \"description\": \"\"\n      }\n    },\n    {\n      \"column\": \"pressure\",\n      \"properties\": {\n        \"dtype\": \"number\",\n        \"std\": 2134042.747326478,\n        \"min\": -1.895744294564641,\n        \"max\": 6036000.0,\n        \"num_unique_values\": 8,\n        \"samples\": [\n          11.220408111543698,\n          7.032628177739799,\n          6036000.0\n        ],\n        \"semantic_type\": \"\",\n        \"description\": \"\"\n      }\n    }\n  ]\n}"
            }
          },
          "metadata": {},
          "execution_count": 16
        }
      ]
    },
    {
      "cell_type": "markdown",
      "source": [
        "**Observaciones 💡 -->**\n",
        "> - Se observa una amplia variabilidad en las características pulmonares, con valores medios de restricción pulmonar de 27.04 y flexibilidad de 26.08, con desviaciones estándar de 19.59 y 17.15 respectivamente.\n",
        "\n",
        "> - Los cuartiles muestran que el 25% de los registros presenta características pulmonares moderadamente flexibles. Por otro lado el 50% (mediana) de R es 20.0 y C es 20.0, lo que sugiere que la mayoría de los pulmones se agrupan en un rango intermedio."
      ],
      "metadata": {
        "id": "ANvOSau9DsI_"
      }
    },
    {
      "cell_type": "markdown",
      "source": [
        "##### **(2) Handling Missing Values**"
      ],
      "metadata": {
        "id": "LUyio7UTK9ft"
      }
    },
    {
      "cell_type": "code",
      "source": [
        "df.isnull().sum()"
      ],
      "metadata": {
        "colab": {
          "base_uri": "https://localhost:8080/",
          "height": 304
        },
        "id": "_iNLwryFK459",
        "outputId": "b15ecd3c-f0a2-463f-92f8-64b15b8dd1c1"
      },
      "execution_count": 17,
      "outputs": [
        {
          "output_type": "execute_result",
          "data": {
            "text/plain": [
              "breath_id    0\n",
              "R            0\n",
              "C            0\n",
              "time_step    0\n",
              "u_in         0\n",
              "u_out        0\n",
              "pressure     0\n",
              "dtype: int64"
            ],
            "text/html": [
              "<div>\n",
              "<style scoped>\n",
              "    .dataframe tbody tr th:only-of-type {\n",
              "        vertical-align: middle;\n",
              "    }\n",
              "\n",
              "    .dataframe tbody tr th {\n",
              "        vertical-align: top;\n",
              "    }\n",
              "\n",
              "    .dataframe thead th {\n",
              "        text-align: right;\n",
              "    }\n",
              "</style>\n",
              "<table border=\"1\" class=\"dataframe\">\n",
              "  <thead>\n",
              "    <tr style=\"text-align: right;\">\n",
              "      <th></th>\n",
              "      <th>0</th>\n",
              "    </tr>\n",
              "  </thead>\n",
              "  <tbody>\n",
              "    <tr>\n",
              "      <th>breath_id</th>\n",
              "      <td>0</td>\n",
              "    </tr>\n",
              "    <tr>\n",
              "      <th>R</th>\n",
              "      <td>0</td>\n",
              "    </tr>\n",
              "    <tr>\n",
              "      <th>C</th>\n",
              "      <td>0</td>\n",
              "    </tr>\n",
              "    <tr>\n",
              "      <th>time_step</th>\n",
              "      <td>0</td>\n",
              "    </tr>\n",
              "    <tr>\n",
              "      <th>u_in</th>\n",
              "      <td>0</td>\n",
              "    </tr>\n",
              "    <tr>\n",
              "      <th>u_out</th>\n",
              "      <td>0</td>\n",
              "    </tr>\n",
              "    <tr>\n",
              "      <th>pressure</th>\n",
              "      <td>0</td>\n",
              "    </tr>\n",
              "  </tbody>\n",
              "</table>\n",
              "</div><br><label><b>dtype:</b> int64</label>"
            ]
          },
          "metadata": {},
          "execution_count": 17
        }
      ]
    },
    {
      "cell_type": "markdown",
      "source": [
        "**Observaciones 💡 -->**\n",
        "> - Como se observa en el muy breve análisis previo, el conjunto de datos está completamente poblado, lo que implica que no es necesaria ninguna forma de imputación para el manejo de datos faltantes."
      ],
      "metadata": {
        "id": "-BWdS6vtLi7p"
      }
    },
    {
      "cell_type": "markdown",
      "source": [
        "##### **(3) Handling Duplicated Values**"
      ],
      "metadata": {
        "id": "MDejKd4OMdhN"
      }
    },
    {
      "cell_type": "code",
      "source": [
        "# Get duplicated rows\n",
        "duplicates = df[df.duplicated(keep=False)]\n",
        "duplicates"
      ],
      "metadata": {
        "colab": {
          "base_uri": "https://localhost:8080/",
          "height": 89
        },
        "id": "2r7uMotMDYcH",
        "outputId": "66e1107a-bbb8-4ad9-bbd0-781757129b10"
      },
      "execution_count": 18,
      "outputs": [
        {
          "output_type": "execute_result",
          "data": {
            "text/plain": [
              "Empty DataFrame\n",
              "Columns: [breath_id, R, C, time_step, u_in, u_out, pressure]\n",
              "Index: []"
            ],
            "text/html": [
              "\n",
              "  <div id=\"df-ac99887a-8e13-40c2-9847-528ae2ef57e7\" class=\"colab-df-container\">\n",
              "    <div>\n",
              "<style scoped>\n",
              "    .dataframe tbody tr th:only-of-type {\n",
              "        vertical-align: middle;\n",
              "    }\n",
              "\n",
              "    .dataframe tbody tr th {\n",
              "        vertical-align: top;\n",
              "    }\n",
              "\n",
              "    .dataframe thead th {\n",
              "        text-align: right;\n",
              "    }\n",
              "</style>\n",
              "<table border=\"1\" class=\"dataframe\">\n",
              "  <thead>\n",
              "    <tr style=\"text-align: right;\">\n",
              "      <th></th>\n",
              "      <th>breath_id</th>\n",
              "      <th>R</th>\n",
              "      <th>C</th>\n",
              "      <th>time_step</th>\n",
              "      <th>u_in</th>\n",
              "      <th>u_out</th>\n",
              "      <th>pressure</th>\n",
              "    </tr>\n",
              "  </thead>\n",
              "  <tbody>\n",
              "  </tbody>\n",
              "</table>\n",
              "</div>\n",
              "    <div class=\"colab-df-buttons\">\n",
              "\n",
              "  <div class=\"colab-df-container\">\n",
              "    <button class=\"colab-df-convert\" onclick=\"convertToInteractive('df-ac99887a-8e13-40c2-9847-528ae2ef57e7')\"\n",
              "            title=\"Convert this dataframe to an interactive table.\"\n",
              "            style=\"display:none;\">\n",
              "\n",
              "  <svg xmlns=\"http://www.w3.org/2000/svg\" height=\"24px\" viewBox=\"0 -960 960 960\">\n",
              "    <path d=\"M120-120v-720h720v720H120Zm60-500h600v-160H180v160Zm220 220h160v-160H400v160Zm0 220h160v-160H400v160ZM180-400h160v-160H180v160Zm440 0h160v-160H620v160ZM180-180h160v-160H180v160Zm440 0h160v-160H620v160Z\"/>\n",
              "  </svg>\n",
              "    </button>\n",
              "\n",
              "  <style>\n",
              "    .colab-df-container {\n",
              "      display:flex;\n",
              "      gap: 12px;\n",
              "    }\n",
              "\n",
              "    .colab-df-convert {\n",
              "      background-color: #E8F0FE;\n",
              "      border: none;\n",
              "      border-radius: 50%;\n",
              "      cursor: pointer;\n",
              "      display: none;\n",
              "      fill: #1967D2;\n",
              "      height: 32px;\n",
              "      padding: 0 0 0 0;\n",
              "      width: 32px;\n",
              "    }\n",
              "\n",
              "    .colab-df-convert:hover {\n",
              "      background-color: #E2EBFA;\n",
              "      box-shadow: 0px 1px 2px rgba(60, 64, 67, 0.3), 0px 1px 3px 1px rgba(60, 64, 67, 0.15);\n",
              "      fill: #174EA6;\n",
              "    }\n",
              "\n",
              "    .colab-df-buttons div {\n",
              "      margin-bottom: 4px;\n",
              "    }\n",
              "\n",
              "    [theme=dark] .colab-df-convert {\n",
              "      background-color: #3B4455;\n",
              "      fill: #D2E3FC;\n",
              "    }\n",
              "\n",
              "    [theme=dark] .colab-df-convert:hover {\n",
              "      background-color: #434B5C;\n",
              "      box-shadow: 0px 1px 3px 1px rgba(0, 0, 0, 0.15);\n",
              "      filter: drop-shadow(0px 1px 2px rgba(0, 0, 0, 0.3));\n",
              "      fill: #FFFFFF;\n",
              "    }\n",
              "  </style>\n",
              "\n",
              "    <script>\n",
              "      const buttonEl =\n",
              "        document.querySelector('#df-ac99887a-8e13-40c2-9847-528ae2ef57e7 button.colab-df-convert');\n",
              "      buttonEl.style.display =\n",
              "        google.colab.kernel.accessAllowed ? 'block' : 'none';\n",
              "\n",
              "      async function convertToInteractive(key) {\n",
              "        const element = document.querySelector('#df-ac99887a-8e13-40c2-9847-528ae2ef57e7');\n",
              "        const dataTable =\n",
              "          await google.colab.kernel.invokeFunction('convertToInteractive',\n",
              "                                                    [key], {});\n",
              "        if (!dataTable) return;\n",
              "\n",
              "        const docLinkHtml = 'Like what you see? Visit the ' +\n",
              "          '<a target=\"_blank\" href=https://colab.research.google.com/notebooks/data_table.ipynb>data table notebook</a>'\n",
              "          + ' to learn more about interactive tables.';\n",
              "        element.innerHTML = '';\n",
              "        dataTable['output_type'] = 'display_data';\n",
              "        await google.colab.output.renderOutput(dataTable, element);\n",
              "        const docLink = document.createElement('div');\n",
              "        docLink.innerHTML = docLinkHtml;\n",
              "        element.appendChild(docLink);\n",
              "      }\n",
              "    </script>\n",
              "  </div>\n",
              "\n",
              "\n",
              "  <div id=\"id_3034464f-2430-4136-8afd-b1656d0a03fd\">\n",
              "    <style>\n",
              "      .colab-df-generate {\n",
              "        background-color: #E8F0FE;\n",
              "        border: none;\n",
              "        border-radius: 50%;\n",
              "        cursor: pointer;\n",
              "        display: none;\n",
              "        fill: #1967D2;\n",
              "        height: 32px;\n",
              "        padding: 0 0 0 0;\n",
              "        width: 32px;\n",
              "      }\n",
              "\n",
              "      .colab-df-generate:hover {\n",
              "        background-color: #E2EBFA;\n",
              "        box-shadow: 0px 1px 2px rgba(60, 64, 67, 0.3), 0px 1px 3px 1px rgba(60, 64, 67, 0.15);\n",
              "        fill: #174EA6;\n",
              "      }\n",
              "\n",
              "      [theme=dark] .colab-df-generate {\n",
              "        background-color: #3B4455;\n",
              "        fill: #D2E3FC;\n",
              "      }\n",
              "\n",
              "      [theme=dark] .colab-df-generate:hover {\n",
              "        background-color: #434B5C;\n",
              "        box-shadow: 0px 1px 3px 1px rgba(0, 0, 0, 0.15);\n",
              "        filter: drop-shadow(0px 1px 2px rgba(0, 0, 0, 0.3));\n",
              "        fill: #FFFFFF;\n",
              "      }\n",
              "    </style>\n",
              "    <button class=\"colab-df-generate\" onclick=\"generateWithVariable('duplicates')\"\n",
              "            title=\"Generate code using this dataframe.\"\n",
              "            style=\"display:none;\">\n",
              "\n",
              "  <svg xmlns=\"http://www.w3.org/2000/svg\" height=\"24px\"viewBox=\"0 0 24 24\"\n",
              "       width=\"24px\">\n",
              "    <path d=\"M7,19H8.4L18.45,9,17,7.55,7,17.6ZM5,21V16.75L18.45,3.32a2,2,0,0,1,2.83,0l1.4,1.43a1.91,1.91,0,0,1,.58,1.4,1.91,1.91,0,0,1-.58,1.4L9.25,21ZM18.45,9,17,7.55Zm-12,3A5.31,5.31,0,0,0,4.9,8.1,5.31,5.31,0,0,0,1,6.5,5.31,5.31,0,0,0,4.9,4.9,5.31,5.31,0,0,0,6.5,1,5.31,5.31,0,0,0,8.1,4.9,5.31,5.31,0,0,0,12,6.5,5.46,5.46,0,0,0,6.5,12Z\"/>\n",
              "  </svg>\n",
              "    </button>\n",
              "    <script>\n",
              "      (() => {\n",
              "      const buttonEl =\n",
              "        document.querySelector('#id_3034464f-2430-4136-8afd-b1656d0a03fd button.colab-df-generate');\n",
              "      buttonEl.style.display =\n",
              "        google.colab.kernel.accessAllowed ? 'block' : 'none';\n",
              "\n",
              "      buttonEl.onclick = () => {\n",
              "        google.colab.notebook.generateWithVariable('duplicates');\n",
              "      }\n",
              "      })();\n",
              "    </script>\n",
              "  </div>\n",
              "\n",
              "    </div>\n",
              "  </div>\n"
            ],
            "application/vnd.google.colaboratory.intrinsic+json": {
              "type": "dataframe",
              "variable_name": "duplicates",
              "summary": "{\n  \"name\": \"duplicates\",\n  \"rows\": 0,\n  \"fields\": [\n    {\n      \"column\": \"breath_id\",\n      \"properties\": {\n        \"dtype\": \"number\",\n        \"std\": null,\n        \"min\": null,\n        \"max\": null,\n        \"num_unique_values\": 0,\n        \"samples\": [],\n        \"semantic_type\": \"\",\n        \"description\": \"\"\n      }\n    },\n    {\n      \"column\": \"R\",\n      \"properties\": {\n        \"dtype\": \"number\",\n        \"std\": null,\n        \"min\": null,\n        \"max\": null,\n        \"num_unique_values\": 0,\n        \"samples\": [],\n        \"semantic_type\": \"\",\n        \"description\": \"\"\n      }\n    },\n    {\n      \"column\": \"C\",\n      \"properties\": {\n        \"dtype\": \"number\",\n        \"std\": null,\n        \"min\": null,\n        \"max\": null,\n        \"num_unique_values\": 0,\n        \"samples\": [],\n        \"semantic_type\": \"\",\n        \"description\": \"\"\n      }\n    },\n    {\n      \"column\": \"time_step\",\n      \"properties\": {\n        \"dtype\": \"number\",\n        \"std\": null,\n        \"min\": null,\n        \"max\": null,\n        \"num_unique_values\": 0,\n        \"samples\": [],\n        \"semantic_type\": \"\",\n        \"description\": \"\"\n      }\n    },\n    {\n      \"column\": \"u_in\",\n      \"properties\": {\n        \"dtype\": \"number\",\n        \"std\": null,\n        \"min\": null,\n        \"max\": null,\n        \"num_unique_values\": 0,\n        \"samples\": [],\n        \"semantic_type\": \"\",\n        \"description\": \"\"\n      }\n    },\n    {\n      \"column\": \"u_out\",\n      \"properties\": {\n        \"dtype\": \"number\",\n        \"std\": null,\n        \"min\": null,\n        \"max\": null,\n        \"num_unique_values\": 0,\n        \"samples\": [],\n        \"semantic_type\": \"\",\n        \"description\": \"\"\n      }\n    },\n    {\n      \"column\": \"pressure\",\n      \"properties\": {\n        \"dtype\": \"number\",\n        \"std\": null,\n        \"min\": null,\n        \"max\": null,\n        \"num_unique_values\": 0,\n        \"samples\": [],\n        \"semantic_type\": \"\",\n        \"description\": \"\"\n      }\n    }\n  ]\n}"
            }
          },
          "metadata": {},
          "execution_count": 18
        }
      ]
    },
    {
      "cell_type": "markdown",
      "source": [
        "**Observaciones 💡 -->**  \n",
        "\n",
        "> - Nótese que el conjunto de datos tampoco presenta valores duplicados."
      ],
      "metadata": {
        "id": "iSDWe1qiM83R"
      }
    },
    {
      "cell_type": "markdown",
      "source": [
        "#### **(2) Data Visualization and Distribution Analysis**"
      ],
      "metadata": {
        "id": "Bb9DL_eFSz6F"
      }
    },
    {
      "cell_type": "code",
      "source": [
        "def plot_column(df, column):\n",
        "    \"\"\"\n",
        "    Generates a fancy histogram and boxplot for a specified column in the DataFrame.\n",
        "\n",
        "    Parameters:\n",
        "    - df (pd.DataFrame): The DataFrame containing the data.\n",
        "    - column (str): The column name for which to generate the plots.\n",
        "    \"\"\"\n",
        "    # Set up the figure and aesthetic style\n",
        "    sns.set(style=\"whitegrid\", palette=palette)\n",
        "    fig, axes = plt.subplots(1, 2, figsize=(16, 6), gridspec_kw={'width_ratios': [2, 1]})\n",
        "    fig.suptitle(f'Distribution and Spread of {column}', fontsize=16, fontweight='bold')\n",
        "\n",
        "    # Define colors\n",
        "    main_color = palette[0]\n",
        "    accent_color = palette[6]\n",
        "\n",
        "    # Histogram with KDE\n",
        "    sns.histplot(df[column], kde=True, color=main_color, edgecolor='black', ax=axes[0], bins=20)\n",
        "    axes[0].axvline(df[column].mean(), color=accent_color, linestyle='--', label='Mean')\n",
        "    axes[0].axvline(df[column].median(), color='purple', linestyle=':', label='Median')\n",
        "    axes[0].legend()\n",
        "    axes[0].set_title(f'Histogram of {column}', fontsize=14, fontweight='semibold')\n",
        "    axes[0].set_xlabel(column, fontsize=12)\n",
        "    axes[0].set_ylabel('Frequency', fontsize=12)\n",
        "\n",
        "    # Boxplot with additional details\n",
        "    sns.boxplot(x=df[column], color=main_color, width=0.6, ax=axes[1])\n",
        "    mean_val = df[column].mean()\n",
        "    median_val = df[column].median()\n",
        "    axes[1].axvline(mean_val, color=accent_color, linestyle='--', label=f'Mean: {mean_val:.2f}')\n",
        "    axes[1].axvline(median_val, color='purple', linestyle=':', label=f'Median: {median_val:.2f}')\n",
        "    axes[1].legend()\n",
        "    axes[1].set_title(f'Boxplot of {column}', fontsize=14, fontweight='semibold')\n",
        "    axes[1].set_xlabel(column, fontsize=12)\n",
        "\n",
        "    # Final layout adjustments\n",
        "    plt.tight_layout(rect=[0, 0, 1, 0.95])  # Leaves space for the main title\n",
        "    plt.show()"
      ],
      "metadata": {
        "id": "3UJoLFn6OUk3"
      },
      "execution_count": 27,
      "outputs": []
    },
    {
      "cell_type": "code",
      "source": [
        "def plot_frequency(df, column):\n",
        "    \"\"\"\n",
        "    Generates a frequency plot (bar plot) for a specified column in the DataFrame.\n",
        "\n",
        "    Parameters:\n",
        "    - df (pd.DataFrame): The DataFrame containing the data.\n",
        "    - column (str): The column name for which to generate the frequency plot.\n",
        "    \"\"\"\n",
        "    # Set plot style\n",
        "    sns.set(style=\"whitegrid\")\n",
        "\n",
        "    # Create the frequency plot\n",
        "    plt.figure(figsize=(10, 6))\n",
        "    sns.countplot(data=df, x=column, palette=palette)\n",
        "\n",
        "    # Add titles and labels\n",
        "    plt.title(f'Frequency Plot of {column}', fontsize=14, fontweight='bold')\n",
        "    plt.xlabel(column, fontsize=12)\n",
        "    plt.ylabel('Count', fontsize=12)\n",
        "\n",
        "    # Show the plot\n",
        "    plt.show()"
      ],
      "metadata": {
        "id": "R-Ytxd2TQXC4"
      },
      "execution_count": 40,
      "outputs": []
    },
    {
      "cell_type": "markdown",
      "source": [
        "##### **(1) Distribution Analysis of Column `R`**"
      ],
      "metadata": {
        "id": "mvLVJPuINT_5"
      }
    },
    {
      "cell_type": "code",
      "source": [
        "plot_column(df, 'R')  # Generate and display a histogram and boxplot for the column 'R' in the DataFrame 'df'"
      ],
      "metadata": {
        "colab": {
          "base_uri": "https://localhost:8080/",
          "height": 607
        },
        "id": "-cmVRmrTS7ew",
        "outputId": "6b1f1131-e3cb-4ffd-f103-9f2862060fca"
      },
      "execution_count": 28,
      "outputs": [
        {
          "output_type": "display_data",
          "data": {
            "text/plain": [
              "<Figure size 1600x600 with 2 Axes>"
            ],
            "image/png": "[encoded data removed]"
          },
          "metadata": {}
        }
      ]
    },
    {
      "cell_type": "markdown",
      "source": [
        "**Observaciones 💡 -->**  \n",
        "\n",
        "> - Lorem ipsum dolor sit amet, consectetur adipiscing elit. Nulla blandit dictum quam sit amet elementum. Vestibulum sed augue eu augue euismod ornare at lobortis nibh."
      ],
      "metadata": {
        "id": "haXsYN_NO8uv"
      }
    },
    {
      "cell_type": "code",
      "source": [
        "# Convert 'R' to strings.\n",
        "df['R'] = df['R'].astype(str)"
      ],
      "metadata": {
        "id": "muXfcm8rQqUe"
      },
      "execution_count": 31,
      "outputs": []
    },
    {
      "cell_type": "code",
      "source": [
        "plot_frequency(df, 'R') # Plot frecuency of values in column `R`"
      ],
      "metadata": {
        "colab": {
          "base_uri": "https://localhost:8080/",
          "height": 574
        },
        "id": "e27MsGLGQuZc",
        "outputId": "6d6caa86-cd55-4c34-c7a8-c795452fa1c7"
      },
      "execution_count": 41,
      "outputs": [
        {
          "output_type": "display_data",
          "data": {
            "text/plain": [
              "<Figure size 1000x600 with 1 Axes>"
            ],
            "image/png": "[encoded data removed]"
          },
          "metadata": {}
        }
      ]
    },
    {
      "cell_type": "markdown",
      "source": [
        "##### **(2) Distribution Analysis of Column `C`**"
      ],
      "metadata": {
        "id": "3mPRSdy6PEvj"
      }
    },
    {
      "cell_type": "code",
      "source": [
        "plot_column(df, 'C')  # Generate and display a histogram and boxplot for the column 'C' in the DataFrame 'df'"
      ],
      "metadata": {
        "colab": {
          "base_uri": "https://localhost:8080/",
          "height": 607
        },
        "id": "JRoHpd7XPMoE",
        "outputId": "1cd14ead-40a3-42d7-9ce8-316591b85fac"
      },
      "execution_count": 29,
      "outputs": [
        {
          "output_type": "display_data",
          "data": {
            "text/plain": [
              "<Figure size 1600x600 with 2 Axes>"
            ],
            "image/png": "[encoded data removed]"
          },
          "metadata": {}
        }
      ]
    },
    {
      "cell_type": "markdown",
      "source": [
        "**Observaciones 💡 -->**  \n",
        "\n",
        "> - Lorem ipsum dolor sit amet, consectetur adipiscing elit. Nulla blandit dictum quam sit amet elementum. Vestibulum sed augue eu augue euismod ornare at lobortis nibh."
      ],
      "metadata": {
        "id": "zgXINucpPN8M"
      }
    },
    {
      "cell_type": "code",
      "source": [
        "# Convert 'R' to strings.\n",
        "df['C'] = df['C'].astype(str)"
      ],
      "metadata": {
        "id": "4ZytRtB7RrhA"
      },
      "execution_count": 42,
      "outputs": []
    },
    {
      "cell_type": "code",
      "source": [
        "plot_frequency(df, 'C') # Plot frecuency of values in column `C`"
      ],
      "metadata": {
        "colab": {
          "base_uri": "https://localhost:8080/",
          "height": 574
        },
        "id": "gqVVAsUURyZL",
        "outputId": "7939a002-f568-4161-b0f8-30a069ff4915"
      },
      "execution_count": 43,
      "outputs": [
        {
          "output_type": "display_data",
          "data": {
            "text/plain": [
              "<Figure size 1000x600 with 1 Axes>"
            ],
            "image/png": "[encoded data removed]"
          },
          "metadata": {}
        }
      ]
    },
    {
      "cell_type": "markdown",
      "source": [
        "##### **(3) Distribution Analysis of Column `time_step`**"
      ],
      "metadata": {
        "id": "1ibzvfCWPJ_x"
      }
    },
    {
      "cell_type": "code",
      "source": [
        "plot_column(df, 'time_step')  # Generate and display a histogram and boxplot for the column 'time_step' in the DataFrame 'df'"
      ],
      "metadata": {
        "colab": {
          "base_uri": "https://localhost:8080/",
          "height": 607
        },
        "id": "2Rbm0dhiMErX",
        "outputId": "f7cb5299-6547-4d3c-d22f-37a3461813c5"
      },
      "execution_count": 30,
      "outputs": [
        {
          "output_type": "display_data",
          "data": {
            "text/plain": [
              "<Figure size 1600x600 with 2 Axes>"
            ],
            "image/png": "[encoded data removed]"
          },
          "metadata": {}
        }
      ]
    },
    {
      "cell_type": "markdown",
      "source": [
        "**Observaciones 💡 -->**  \n",
        "\n",
        "> - Lorem ipsum dolor sit amet, consectetur adipiscing elit. Nulla blandit dictum quam sit amet elementum. Vestibulum sed augue eu augue euismod ornare at lobortis nibh."
      ],
      "metadata": {
        "id": "h0bS6LuTPOhj"
      }
    },
    {
      "cell_type": "markdown",
      "source": [
        "##### **(4) Distribution Analysis of Column `u_in`**"
      ],
      "metadata": {
        "id": "95VhXtEeP8Pg"
      }
    },
    {
      "cell_type": "code",
      "source": [],
      "metadata": {
        "id": "nhVdmWXmPOrH"
      },
      "execution_count": null,
      "outputs": []
    },
    {
      "cell_type": "markdown",
      "source": [
        "**Observaciones 💡 -->**  \n",
        "\n",
        "> - Lorem ipsum dolor sit amet, consectetur adipiscing elit. Nulla blandit dictum quam sit amet elementum. Vestibulum sed augue eu augue euismod ornare at lobortis nibh."
      ],
      "metadata": {
        "id": "fZx6efQYP-2w"
      }
    },
    {
      "cell_type": "code",
      "source": [],
      "metadata": {
        "id": "dFCR6I1qP_Cb"
      },
      "execution_count": null,
      "outputs": []
    }
  ]
}